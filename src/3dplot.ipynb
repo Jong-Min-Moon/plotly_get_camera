{
 "cells": [
  {
   "attachments": {},
   "cell_type": "markdown",
   "metadata": {},
   "source": [
    "### 1. Load packages"
   ]
  },
  {
   "cell_type": "code",
   "execution_count": 97,
   "metadata": {},
   "outputs": [],
   "source": [
    "import networkx as nx\n",
    "import matplotlib.pyplot as plt\n",
    "import numpy as np\n",
    "import copy\n",
    "from networkx.algorithms import community\n",
    "import matplotlib.animation as animation\n",
    "import community as lvcm\n",
    "import scipy\n",
    "import pickle\n",
    "import pandas as pd   \n",
    "import os\n",
    "import plotly.graph_objects as go\n",
    "import interpol as itp\n",
    "import random"
   ]
  },
  {
   "cell_type": "markdown",
   "metadata": {},
   "source": [
    "### 2. Load data from pkls and npy"
   ]
  },
  {
   "cell_type": "code",
   "execution_count": 41,
   "metadata": {},
   "outputs": [],
   "source": [
    "pwd = os.getcwd()\n",
    "\n",
    "distMat = np.load(pwd + \"/score_matrix.npy\")\n",
    "\n",
    "positions = pd.read_pickle(pwd + \"/positions.pkl\")\n",
    "positions.columns = [\"channelNum\", \"xPos\", \"yPos\", \"zPos\"]\n",
    "positions['channelNum'] = positions['channelNum'].astype('int')\n",
    "positions.set_index(\"channelNum\", inplace = True)\n",
    "\n",
    "\n",
    "#node_sizes\n",
    "basic_size, multiplier = np.load(pwd + \"/node_sizes.npy\")\n",
    "\n",
    "# colors\n",
    "colors = pd.read_pickle(pwd + \"/colors.pkl\")\n",
    "edge_startcolor= colors.iloc[0]\n",
    "edge_endcolor  = colors.iloc[1]\n",
    "colorscale_node = colors.iloc[2]\n",
    "\n",
    "\n",
    "\n",
    "# colors\n",
    "lims = pd.read_pickle(pwd + \"/lims.pkl\")\n",
    "lim_degree_low  = lims.iloc[0]\n",
    "lim_degree_high = lims.iloc[1]\n",
    "lim_edge_low    = lims.iloc[2]\n",
    "lim_edge_high   = lims.iloc[3]\n",
    "thres = lims.iloc[4]\n",
    "community_max = lims.iloc[5]\n",
    "lim_color_edge_low    = lims.iloc[6]\n",
    "lim_color_edge_high   = lims.iloc[7]\n",
    "\n",
    "\n",
    "# display_or_not\n",
    "display_or_not = pd.read_pickle(pwd + \"/display_or_not.pkl\")\n",
    "display_community_color  = display_or_not.iloc[0]\n",
    "display_degree = display_or_not.iloc[1]\n",
    "display_sync_score    = display_or_not.iloc[2]"
   ]
  },
  {
   "attachments": {},
   "cell_type": "markdown",
   "metadata": {},
   "source": [
    "### 3. Add nodes"
   ]
  },
  {
   "cell_type": "code",
   "execution_count": 49,
   "metadata": {},
   "outputs": [],
   "source": [
    "G = nx.Graph()\n",
    "\n",
    "## channel list\n",
    "channel_list = [\"{}\".format(int(i)) for i in positions.index]\n",
    "# list of strings.\n",
    "# Since channels might have been deleted, one should avoid using range() and always refer to this list\n",
    "\n",
    "\n",
    "## We set each channel as a node (e.g., circles in the network map)\n",
    "for channelNum in channel_list:\n",
    "    G.add_node(channelNum, pos = positions.loc[int(channelNum)] )\n",
    "pos = nx.get_node_attributes(G,'pos')"
   ]
  },
  {
   "cell_type": "markdown",
   "metadata": {},
   "source": [
    "### 4. Add edges"
   ]
  },
  {
   "cell_type": "code",
   "execution_count": 51,
   "metadata": {},
   "outputs": [],
   "source": [
    "## we set the degree of synchronization between the electrodes as an edge\n",
    "## (e.g., lines in the network map).\n",
    "n_nodes = len(channel_list) # number of nodes = number of channels\n",
    "\n",
    "for i in range(n_nodes):\n",
    "    for j in range(i+1, n_nodes):\n",
    "        sync_score = distMat[i,j]\n",
    "        # the links with synchronized scores less than thres were filtered out.\n",
    "        if (sync_score >= thres):\n",
    "            G.add_edge(channel_list[i], channel_list[j], weight = sync_score)"
   ]
  },
  {
   "cell_type": "markdown",
   "metadata": {},
   "source": [
    "### 5. Louvain method"
   ]
  },
  {
   "cell_type": "code",
   "execution_count": 52,
   "metadata": {},
   "outputs": [],
   "source": [
    "#run Louvain method. result: dictionary {channelNum:communityNum}\n",
    "partition = lvcm.best_partition(graph=G, partition=None, random_state = 1)\n"
   ]
  },
  {
   "attachments": {},
   "cell_type": "markdown",
   "metadata": {},
   "source": [
    "### 6. Make color list"
   ]
  },
  {
   "cell_type": "code",
   "execution_count": 103,
   "metadata": {},
   "outputs": [],
   "source": [
    "degree_dict = dict(G.degree)\n",
    "partition_list = set(partition.values())\n",
    "    \n",
    "max_k_w = []\n",
    "for com in partition_list: # loop over each community\n",
    "    list_nodes = [int(channelNum) for channelNum in channel_list\n",
    "        if partition[channelNum] == com\n",
    "        and degree_dict[channelNum]>=lim_degree_low # NODE FILTERING\n",
    "        and degree_dict[channelNum]<=lim_degree_high # NODE FILTERING\n",
    "        ]\n",
    "    max_k_w = max_k_w + [list_nodes]\n",
    "     # list comprehension. concat [member list] of each community\n",
    "\n",
    "color_list_community = []\n",
    "color_code_now = 0\n",
    "for channelNum in channel_list: # loop over channels\n",
    "    for color_code, nodes_sharing_community in enumerate(max_k_w): #loop over communities\n",
    "        if int(channelNum) in nodes_sharing_community:\n",
    "            color_list_community.append(color_code)\n",
    "\n",
    "\n",
    "# save as csv (2022.12.08)\n",
    "Feature_color_sub = np.array(color_list_community)+1  # cluster num = 1, 2, 3, .... not 0 , 1, 2, ...\n",
    "\n",
    "cluster_membership_pd = pd.DataFrame({\"node\" : channel_list, \"community\" : Feature_color_sub})\n",
    "cluster_membership_pd.groupby(\"community\").agg(list).to_csv(\"community_info.csv\") "
   ]
  },
  {
   "attachments": {},
   "cell_type": "markdown",
   "metadata": {},
   "source": [
    "### 7. Create nodes in Plotly"
   ]
  },
  {
   "cell_type": "code",
   "execution_count": 104,
   "metadata": {},
   "outputs": [],
   "source": [
    "layout = go.Layout(title=\"Community structure of the electrodes\",\n",
    "                width=650,\n",
    "                height=625,\n",
    "                showlegend=False,\n",
    "                margin=dict(t=80),\n",
    "                hovermode='closest')\n",
    "\n",
    "fig = go.Figure(layout=layout)"
   ]
  },
  {
   "attachments": {},
   "cell_type": "markdown",
   "metadata": {},
   "source": [
    "#### 7.1. Node positions"
   ]
  },
  {
   "cell_type": "code",
   "execution_count": 116,
   "metadata": {},
   "outputs": [],
   "source": [
    "x_nodes = [ pos[ channelNum ][0] for channelNum in channel_list\n",
    "        if degree_dict[channelNum]>=lim_degree_low # NODE FILTERING\n",
    "        and degree_dict[channelNum]<=lim_degree_high \n",
    "        ]# NODE FILTERING\n",
    "\n",
    "y_nodes = [ pos[ channelNum ][1] for channelNum in channel_list\n",
    "        if degree_dict[channelNum]>=lim_degree_low # NODE FILTERING\n",
    "        and degree_dict[channelNum]<=lim_degree_high \n",
    "        ]# NODE FILTERING\n",
    "\n",
    "z_nodes = [ pos[ channelNum ][2] for channelNum in channel_list\n",
    "        if degree_dict[channelNum]>=lim_degree_low # NODE FILTERING\n",
    "        and degree_dict[channelNum]<=lim_degree_high \n",
    "        ]# NODE FILTERING"
   ]
  },
  {
   "attachments": {},
   "cell_type": "markdown",
   "metadata": {},
   "source": [
    "#### 7.2. Node sizes (=degree)"
   ]
  },
  {
   "cell_type": "code",
   "execution_count": 117,
   "metadata": {},
   "outputs": [],
   "source": [
    "d = dict(G.degree)\n",
    "degree_values = d.values()\n",
    "node_size_normalized = np.fromiter(degree_values, dtype = float)\n",
    "degree_values = list(d.values())\n",
    "node_size_normalized = (node_size_normalized - np.min(node_size_normalized))/(np.max(node_size_normalized) - np.min(node_size_normalized))"
   ]
  },
  {
   "attachments": {},
   "cell_type": "markdown",
   "metadata": {},
   "source": [
    "#### 7.3. On/off features(22.12.08.)"
   ]
  },
  {
   "cell_type": "code",
   "execution_count": 123,
   "metadata": {},
   "outputs": [
    {
     "data": {
      "application/vnd.plotly.v1+json": {
       "config": {
        "plotlyServerURL": "https://plot.ly"
       },
       "data": [
        {
         "hoverinfo": "text",
         "marker": {
          "color": "yellow",
          "line": {
           "color": "black",
           "width": 0.5
          },
          "size": [
           20,
           21.714285714285715,
           28.857142857142858,
           30,
           20,
           20,
           22,
           20,
           20,
           29.428571428571427,
           30,
           30,
           30,
           20,
           22.57142857142857,
           20,
           30,
           30,
           30,
           20,
           20,
           20,
           20,
           20,
           20.57142857142857,
           29.714285714285715,
           28.571428571428573,
           23.142857142857142,
           21.714285714285715,
           20,
           21.428571428571427,
           28.857142857142858,
           27.42857142857143,
           26.857142857142858,
           27.714285714285715,
           25.714285714285715,
           27.42857142857143,
           29.428571428571427,
           29.142857142857142,
           28.857142857142858,
           28.28571428571429,
           28.28571428571429,
           28.28571428571429,
           28.28571428571429,
           28.571428571428573,
           20,
           24.285714285714285,
           28.857142857142858,
           28.857142857142858,
           28.857142857142858,
           27.714285714285715,
           26,
           26,
           25.714285714285715,
           20.285714285714285,
           20,
           20.57142857142857,
           27.42857142857143,
           28.857142857142858,
           28.857142857142858,
           27.142857142857146
          ],
          "symbol": "circle"
         },
         "mode": "markers",
         "name": "Community",
         "showlegend": true,
         "text": [
          "Channel 1 belongs to community 1",
          "Channel 2 belongs to community 7",
          "Channel 3 belongs to community 2",
          "Channel 4 belongs to community 3",
          "Channel 5 belongs to community 5",
          "Channel 6 belongs to community 6",
          "Channel 7 belongs to community 7",
          "Channel 8 belongs to community 8",
          "Channel 9 belongs to community 9",
          "Channel 10 belongs to community 2",
          "Channel 11 belongs to community 3",
          "Channel 12 belongs to community 3",
          "Channel 13 belongs to community 3",
          "Channel 14 belongs to community 14",
          "Channel 15 belongs to community 7",
          "Channel 16 belongs to community 16",
          "Channel 17 belongs to community 2",
          "Channel 18 belongs to community 3",
          "Channel 19 belongs to community 3",
          "Channel 20 belongs to community 10",
          "Channel 21 belongs to community 11",
          "Channel 22 belongs to community 12",
          "Channel 23 belongs to community 13",
          "Channel 24 belongs to community 15",
          "Channel 25 belongs to community 7",
          "Channel 26 belongs to community 3",
          "Channel 27 belongs to community 2",
          "Channel 28 belongs to community 7",
          "Channel 29 belongs to community 7",
          "Channel 30 belongs to community 18",
          "Channel 31 belongs to community 7",
          "Channel 32 belongs to community 2",
          "Channel 33 belongs to community 2",
          "Channel 34 belongs to community 2",
          "Channel 35 belongs to community 2",
          "Channel 36 belongs to community 3",
          "Channel 37 belongs to community 2",
          "Channel 38 belongs to community 3",
          "Channel 39 belongs to community 3",
          "Channel 40 belongs to community 3",
          "Channel 41 belongs to community 3",
          "Channel 42 belongs to community 3",
          "Channel 43 belongs to community 3",
          "Channel 44 belongs to community 3",
          "Channel 45 belongs to community 3",
          "Channel 46 belongs to community 4",
          "Channel 47 belongs to community 7",
          "Channel 48 belongs to community 2",
          "Channel 49 belongs to community 2",
          "Channel 50 belongs to community 2",
          "Channel 51 belongs to community 3",
          "Channel 52 belongs to community 3",
          "Channel 53 belongs to community 3",
          "Channel 54 belongs to community 3",
          "Channel 55 belongs to community 7",
          "Channel 56 belongs to community 17",
          "Channel 57 belongs to community 7",
          "Channel 58 belongs to community 2",
          "Channel 59 belongs to community 2",
          "Channel 60 belongs to community 2",
          "Channel 61 belongs to community 2"
         ],
         "type": "scatter3d",
         "x": [
          0,
          0,
          0,
          1,
          1,
          1,
          2,
          2,
          2,
          2,
          3,
          3,
          3,
          3,
          0,
          0,
          0,
          0,
          1,
          1,
          1,
          1,
          2,
          2,
          2,
          2,
          3,
          3,
          3,
          3,
          0,
          0,
          0,
          0,
          1,
          1,
          1,
          1,
          2,
          2,
          2,
          2,
          3,
          3,
          3,
          3,
          0,
          0,
          0,
          0,
          1,
          1,
          1,
          1,
          2,
          2,
          2,
          2,
          3,
          3,
          3
         ],
         "y": [
          1,
          2,
          3,
          0,
          1,
          2,
          0,
          1,
          2,
          3,
          0,
          1,
          2,
          3,
          0,
          1,
          2,
          3,
          0,
          1,
          2,
          3,
          0,
          1,
          2,
          3,
          0,
          1,
          2,
          3,
          0,
          1,
          2,
          3,
          0,
          1,
          2,
          3,
          0,
          1,
          2,
          3,
          0,
          1,
          2,
          3,
          0,
          1,
          2,
          3,
          0,
          1,
          2,
          3,
          0,
          1,
          2,
          3,
          0,
          1,
          2
         ],
         "z": [
          0,
          0,
          0,
          0,
          0,
          0,
          0,
          0,
          0,
          0,
          0,
          0,
          0,
          0,
          1,
          1,
          1,
          1,
          1,
          1,
          1,
          1,
          1,
          1,
          1,
          1,
          1,
          1,
          1,
          1,
          3,
          3,
          3,
          3,
          3,
          3,
          3,
          3,
          3,
          3,
          3,
          3,
          3,
          3,
          3,
          3,
          4,
          4,
          4,
          4,
          4,
          4,
          4,
          4,
          4,
          4,
          4,
          4,
          4,
          4,
          4
         ]
        },
        {
         "hoverinfo": "text",
         "marker": {
          "color": "yellow",
          "line": {
           "color": "black",
           "width": 0.5
          },
          "size": [
           20,
           21.714285714285715,
           28.857142857142858,
           30,
           20,
           20,
           22,
           20,
           20,
           29.428571428571427,
           30,
           30,
           30,
           20,
           22.57142857142857,
           20,
           30,
           30,
           30,
           20,
           20,
           20,
           20,
           20,
           20.57142857142857,
           29.714285714285715,
           28.571428571428573,
           23.142857142857142,
           21.714285714285715,
           20,
           21.428571428571427,
           28.857142857142858,
           27.42857142857143,
           26.857142857142858,
           27.714285714285715,
           25.714285714285715,
           27.42857142857143,
           29.428571428571427,
           29.142857142857142,
           28.857142857142858,
           28.28571428571429,
           28.28571428571429,
           28.28571428571429,
           28.28571428571429,
           28.571428571428573,
           20,
           24.285714285714285,
           28.857142857142858,
           28.857142857142858,
           28.857142857142858,
           27.714285714285715,
           26,
           26,
           25.714285714285715,
           20.285714285714285,
           20,
           20.57142857142857,
           27.42857142857143,
           28.857142857142858,
           28.857142857142858,
           27.142857142857146
          ],
          "symbol": "circle"
         },
         "mode": "markers",
         "name": "Community",
         "showlegend": true,
         "text": [
          "Channel 2 belongs to community 0",
          "Channel 3 belongs to community 6",
          "Channel 4 belongs to community 1",
          "Channel 5 belongs to community 2",
          "Channel 6 belongs to community 4",
          "Channel 7 belongs to community 5",
          "Channel 9 belongs to community 6",
          "Channel 10 belongs to community 7",
          "Channel 11 belongs to community 8",
          "Channel 12 belongs to community 1",
          "Channel 13 belongs to community 2",
          "Channel 14 belongs to community 2",
          "Channel 15 belongs to community 2",
          "Channel 16 belongs to community 13",
          "Channel 17 belongs to community 6",
          "Channel 18 belongs to community 15",
          "Channel 19 belongs to community 1",
          "Channel 20 belongs to community 2",
          "Channel 21 belongs to community 2",
          "Channel 22 belongs to community 9",
          "Channel 23 belongs to community 10",
          "Channel 24 belongs to community 11",
          "Channel 25 belongs to community 12",
          "Channel 26 belongs to community 14",
          "Channel 27 belongs to community 6",
          "Channel 28 belongs to community 2",
          "Channel 29 belongs to community 1",
          "Channel 30 belongs to community 6",
          "Channel 31 belongs to community 6",
          "Channel 32 belongs to community 17",
          "Channel 33 belongs to community 6",
          "Channel 34 belongs to community 1",
          "Channel 35 belongs to community 1",
          "Channel 36 belongs to community 1",
          "Channel 37 belongs to community 1",
          "Channel 38 belongs to community 2",
          "Channel 39 belongs to community 1",
          "Channel 40 belongs to community 2",
          "Channel 41 belongs to community 2",
          "Channel 42 belongs to community 2",
          "Channel 43 belongs to community 2",
          "Channel 44 belongs to community 2",
          "Channel 45 belongs to community 2",
          "Channel 46 belongs to community 2",
          "Channel 47 belongs to community 2",
          "Channel 48 belongs to community 3",
          "Channel 49 belongs to community 6",
          "Channel 50 belongs to community 1",
          "Channel 51 belongs to community 1",
          "Channel 52 belongs to community 1",
          "Channel 53 belongs to community 2",
          "Channel 54 belongs to community 2",
          "Channel 55 belongs to community 2",
          "Channel 56 belongs to community 2",
          "Channel 57 belongs to community 6",
          "Channel 58 belongs to community 16",
          "Channel 59 belongs to community 6",
          "Channel 60 belongs to community 1",
          "Channel 61 belongs to community 1",
          "Channel 62 belongs to community 1",
          "Channel 63 belongs to community 1"
         ],
         "type": "scatter3d",
         "x": [
          0,
          0,
          0,
          1,
          1,
          1,
          2,
          2,
          2,
          2,
          3,
          3,
          3,
          3,
          0,
          0,
          0,
          0,
          1,
          1,
          1,
          1,
          2,
          2,
          2,
          2,
          3,
          3,
          3,
          3,
          0,
          0,
          0,
          0,
          1,
          1,
          1,
          1,
          2,
          2,
          2,
          2,
          3,
          3,
          3,
          3,
          0,
          0,
          0,
          0,
          1,
          1,
          1,
          1,
          2,
          2,
          2,
          2,
          3,
          3,
          3
         ],
         "y": [
          1,
          2,
          3,
          0,
          1,
          2,
          0,
          1,
          2,
          3,
          0,
          1,
          2,
          3,
          0,
          1,
          2,
          3,
          0,
          1,
          2,
          3,
          0,
          1,
          2,
          3,
          0,
          1,
          2,
          3,
          0,
          1,
          2,
          3,
          0,
          1,
          2,
          3,
          0,
          1,
          2,
          3,
          0,
          1,
          2,
          3,
          0,
          1,
          2,
          3,
          0,
          1,
          2,
          3,
          0,
          1,
          2,
          3,
          0,
          1,
          2
         ],
         "z": [
          0,
          0,
          0,
          0,
          0,
          0,
          0,
          0,
          0,
          0,
          0,
          0,
          0,
          0,
          1.5,
          1.5,
          1.5,
          1.5,
          1.5,
          1.5,
          1.5,
          1.5,
          1.5,
          1.5,
          1.5,
          1.5,
          1.5,
          1.5,
          1.5,
          1.5,
          3,
          3,
          3,
          3,
          3,
          3,
          3,
          3,
          3,
          3,
          3,
          3,
          3,
          3,
          3,
          3,
          4.5,
          4.5,
          4.5,
          4.5,
          4.5,
          4.5,
          4.5,
          4.5,
          4.5,
          4.5,
          4.5,
          4.5,
          4.5,
          4.5,
          4.5
         ]
        },
        {
         "hoverinfo": "text",
         "marker": {
          "color": "yellow",
          "line": {
           "color": "black",
           "width": 0.5
          },
          "size": [
           20,
           21.714285714285715,
           28.857142857142858,
           30,
           20,
           20,
           22,
           20,
           20,
           29.428571428571427,
           30,
           30,
           30,
           20,
           22.57142857142857,
           20,
           30,
           30,
           30,
           20,
           20,
           20,
           20,
           20,
           20.57142857142857,
           29.714285714285715,
           28.571428571428573,
           23.142857142857142,
           21.714285714285715,
           20,
           21.428571428571427,
           28.857142857142858,
           27.42857142857143,
           26.857142857142858,
           27.714285714285715,
           25.714285714285715,
           27.42857142857143,
           29.428571428571427,
           29.142857142857142,
           28.857142857142858,
           28.28571428571429,
           28.28571428571429,
           28.28571428571429,
           28.28571428571429,
           28.571428571428573,
           20,
           24.285714285714285,
           28.857142857142858,
           28.857142857142858,
           28.857142857142858,
           27.714285714285715,
           26,
           26,
           25.714285714285715,
           20.285714285714285,
           20,
           20.57142857142857,
           27.42857142857143,
           28.857142857142858,
           28.857142857142858,
           27.142857142857146
          ],
          "symbol": "circle"
         },
         "mode": "markers",
         "name": "Community",
         "showlegend": true,
         "text": [
          "Channel 2 belongs to community 1",
          "Channel 3 belongs to community 7",
          "Channel 4 belongs to community 2",
          "Channel 5 belongs to community 3",
          "Channel 6 belongs to community 5",
          "Channel 7 belongs to community 6",
          "Channel 9 belongs to community 7",
          "Channel 10 belongs to community 8",
          "Channel 11 belongs to community 9",
          "Channel 12 belongs to community 2",
          "Channel 13 belongs to community 3",
          "Channel 14 belongs to community 3",
          "Channel 15 belongs to community 3",
          "Channel 16 belongs to community 14",
          "Channel 17 belongs to community 7",
          "Channel 18 belongs to community 16",
          "Channel 19 belongs to community 2",
          "Channel 20 belongs to community 3",
          "Channel 21 belongs to community 3",
          "Channel 22 belongs to community 10",
          "Channel 23 belongs to community 11",
          "Channel 24 belongs to community 12",
          "Channel 25 belongs to community 13",
          "Channel 26 belongs to community 15",
          "Channel 27 belongs to community 7",
          "Channel 28 belongs to community 3",
          "Channel 29 belongs to community 2",
          "Channel 30 belongs to community 7",
          "Channel 31 belongs to community 7",
          "Channel 32 belongs to community 18",
          "Channel 33 belongs to community 7",
          "Channel 34 belongs to community 2",
          "Channel 35 belongs to community 2",
          "Channel 36 belongs to community 2",
          "Channel 37 belongs to community 2",
          "Channel 38 belongs to community 3",
          "Channel 39 belongs to community 2",
          "Channel 40 belongs to community 3",
          "Channel 41 belongs to community 3",
          "Channel 42 belongs to community 3",
          "Channel 43 belongs to community 3",
          "Channel 44 belongs to community 3",
          "Channel 45 belongs to community 3",
          "Channel 46 belongs to community 3",
          "Channel 47 belongs to community 3",
          "Channel 48 belongs to community 4",
          "Channel 49 belongs to community 7",
          "Channel 50 belongs to community 2",
          "Channel 51 belongs to community 2",
          "Channel 52 belongs to community 2",
          "Channel 53 belongs to community 3",
          "Channel 54 belongs to community 3",
          "Channel 55 belongs to community 3",
          "Channel 56 belongs to community 3",
          "Channel 57 belongs to community 7",
          "Channel 58 belongs to community 17",
          "Channel 59 belongs to community 7",
          "Channel 60 belongs to community 2",
          "Channel 61 belongs to community 2",
          "Channel 62 belongs to community 2",
          "Channel 63 belongs to community 2"
         ],
         "type": "scatter3d",
         "x": [
          0,
          0,
          0,
          1,
          1,
          1,
          2,
          2,
          2,
          2,
          3,
          3,
          3,
          3,
          0,
          0,
          0,
          0,
          1,
          1,
          1,
          1,
          2,
          2,
          2,
          2,
          3,
          3,
          3,
          3,
          0,
          0,
          0,
          0,
          1,
          1,
          1,
          1,
          2,
          2,
          2,
          2,
          3,
          3,
          3,
          3,
          0,
          0,
          0,
          0,
          1,
          1,
          1,
          1,
          2,
          2,
          2,
          2,
          3,
          3,
          3
         ],
         "y": [
          1,
          2,
          3,
          0,
          1,
          2,
          0,
          1,
          2,
          3,
          0,
          1,
          2,
          3,
          0,
          1,
          2,
          3,
          0,
          1,
          2,
          3,
          0,
          1,
          2,
          3,
          0,
          1,
          2,
          3,
          0,
          1,
          2,
          3,
          0,
          1,
          2,
          3,
          0,
          1,
          2,
          3,
          0,
          1,
          2,
          3,
          0,
          1,
          2,
          3,
          0,
          1,
          2,
          3,
          0,
          1,
          2,
          3,
          0,
          1,
          2
         ],
         "z": [
          0,
          0,
          0,
          0,
          0,
          0,
          0,
          0,
          0,
          0,
          0,
          0,
          0,
          0,
          1.5,
          1.5,
          1.5,
          1.5,
          1.5,
          1.5,
          1.5,
          1.5,
          1.5,
          1.5,
          1.5,
          1.5,
          1.5,
          1.5,
          1.5,
          1.5,
          3,
          3,
          3,
          3,
          3,
          3,
          3,
          3,
          3,
          3,
          3,
          3,
          3,
          3,
          3,
          3,
          4.5,
          4.5,
          4.5,
          4.5,
          4.5,
          4.5,
          4.5,
          4.5,
          4.5,
          4.5,
          4.5,
          4.5,
          4.5,
          4.5,
          4.5
         ]
        },
        {
         "hoverinfo": "text",
         "marker": {
          "color": "yellow",
          "line": {
           "color": "black",
           "width": 0.5
          },
          "size": [
           20,
           21.714285714285715,
           28.857142857142858,
           30,
           20,
           20,
           22,
           20,
           20,
           29.428571428571427,
           30,
           30,
           30,
           20,
           22.57142857142857,
           20,
           30,
           30,
           30,
           20,
           20,
           20,
           20,
           20,
           20.57142857142857,
           29.714285714285715,
           28.571428571428573,
           23.142857142857142,
           21.714285714285715,
           20,
           21.428571428571427,
           28.857142857142858,
           27.42857142857143,
           26.857142857142858,
           27.714285714285715,
           25.714285714285715,
           27.42857142857143,
           29.428571428571427,
           29.142857142857142,
           28.857142857142858,
           28.28571428571429,
           28.28571428571429,
           28.28571428571429,
           28.28571428571429,
           28.571428571428573,
           20,
           24.285714285714285,
           28.857142857142858,
           28.857142857142858,
           28.857142857142858,
           27.714285714285715,
           26,
           26,
           25.714285714285715,
           20.285714285714285,
           20,
           20.57142857142857,
           27.42857142857143,
           28.857142857142858,
           28.857142857142858,
           27.142857142857146
          ],
          "symbol": "circle"
         },
         "mode": "markers",
         "name": "Community",
         "showlegend": true,
         "text": [
          "Channel 2 has degree 0 and belongs to community 1",
          "Channel 3 has degree 6 and belongs to community 7",
          "Channel 4 has degree 31 and belongs to community 2",
          "Channel 5 has degree 35 and belongs to community 3",
          "Channel 6 has degree 0 and belongs to community 5",
          "Channel 7 has degree 0 and belongs to community 6",
          "Channel 9 has degree 7 and belongs to community 7",
          "Channel 10 has degree 0 and belongs to community 8",
          "Channel 11 has degree 0 and belongs to community 9",
          "Channel 12 has degree 33 and belongs to community 2",
          "Channel 13 has degree 35 and belongs to community 3",
          "Channel 14 has degree 35 and belongs to community 3",
          "Channel 15 has degree 35 and belongs to community 3",
          "Channel 16 has degree 0 and belongs to community 14",
          "Channel 17 has degree 9 and belongs to community 7",
          "Channel 18 has degree 0 and belongs to community 16",
          "Channel 19 has degree 35 and belongs to community 2",
          "Channel 20 has degree 35 and belongs to community 3",
          "Channel 21 has degree 35 and belongs to community 3",
          "Channel 22 has degree 0 and belongs to community 10",
          "Channel 23 has degree 0 and belongs to community 11",
          "Channel 24 has degree 0 and belongs to community 12",
          "Channel 25 has degree 0 and belongs to community 13",
          "Channel 26 has degree 0 and belongs to community 15",
          "Channel 27 has degree 2 and belongs to community 7",
          "Channel 28 has degree 34 and belongs to community 3",
          "Channel 29 has degree 30 and belongs to community 2",
          "Channel 30 has degree 11 and belongs to community 7",
          "Channel 31 has degree 6 and belongs to community 7",
          "Channel 32 has degree 0 and belongs to community 18",
          "Channel 33 has degree 5 and belongs to community 7",
          "Channel 34 has degree 31 and belongs to community 2",
          "Channel 35 has degree 26 and belongs to community 2",
          "Channel 36 has degree 24 and belongs to community 2",
          "Channel 37 has degree 27 and belongs to community 2",
          "Channel 38 has degree 20 and belongs to community 3",
          "Channel 39 has degree 26 and belongs to community 2",
          "Channel 40 has degree 33 and belongs to community 3",
          "Channel 41 has degree 32 and belongs to community 3",
          "Channel 42 has degree 31 and belongs to community 3",
          "Channel 43 has degree 29 and belongs to community 3",
          "Channel 44 has degree 29 and belongs to community 3",
          "Channel 45 has degree 29 and belongs to community 3",
          "Channel 46 has degree 29 and belongs to community 3",
          "Channel 47 has degree 30 and belongs to community 3",
          "Channel 48 has degree 0 and belongs to community 4",
          "Channel 49 has degree 15 and belongs to community 7",
          "Channel 50 has degree 31 and belongs to community 2",
          "Channel 51 has degree 31 and belongs to community 2",
          "Channel 52 has degree 31 and belongs to community 2",
          "Channel 53 has degree 27 and belongs to community 3",
          "Channel 54 has degree 21 and belongs to community 3",
          "Channel 55 has degree 21 and belongs to community 3",
          "Channel 56 has degree 20 and belongs to community 3",
          "Channel 57 has degree 1 and belongs to community 7",
          "Channel 58 has degree 0 and belongs to community 17",
          "Channel 59 has degree 2 and belongs to community 7",
          "Channel 60 has degree 26 and belongs to community 2",
          "Channel 61 has degree 31 and belongs to community 2",
          "Channel 62 has degree 31 and belongs to community 2",
          "Channel 63 has degree 25 and belongs to community 2"
         ],
         "type": "scatter3d",
         "x": [
          0,
          0,
          0,
          1,
          1,
          1,
          2,
          2,
          2,
          2,
          3,
          3,
          3,
          3,
          0,
          0,
          0,
          0,
          1,
          1,
          1,
          1,
          2,
          2,
          2,
          2,
          3,
          3,
          3,
          3,
          0,
          0,
          0,
          0,
          1,
          1,
          1,
          1,
          2,
          2,
          2,
          2,
          3,
          3,
          3,
          3,
          0,
          0,
          0,
          0,
          1,
          1,
          1,
          1,
          2,
          2,
          2,
          2,
          3,
          3,
          3
         ],
         "y": [
          1,
          2,
          3,
          0,
          1,
          2,
          0,
          1,
          2,
          3,
          0,
          1,
          2,
          3,
          0,
          1,
          2,
          3,
          0,
          1,
          2,
          3,
          0,
          1,
          2,
          3,
          0,
          1,
          2,
          3,
          0,
          1,
          2,
          3,
          0,
          1,
          2,
          3,
          0,
          1,
          2,
          3,
          0,
          1,
          2,
          3,
          0,
          1,
          2,
          3,
          0,
          1,
          2,
          3,
          0,
          1,
          2,
          3,
          0,
          1,
          2
         ],
         "z": [
          0,
          0,
          0,
          0,
          0,
          0,
          0,
          0,
          0,
          0,
          0,
          0,
          0,
          0,
          1.5,
          1.5,
          1.5,
          1.5,
          1.5,
          1.5,
          1.5,
          1.5,
          1.5,
          1.5,
          1.5,
          1.5,
          1.5,
          1.5,
          1.5,
          1.5,
          3,
          3,
          3,
          3,
          3,
          3,
          3,
          3,
          3,
          3,
          3,
          3,
          3,
          3,
          3,
          3,
          4.5,
          4.5,
          4.5,
          4.5,
          4.5,
          4.5,
          4.5,
          4.5,
          4.5,
          4.5,
          4.5,
          4.5,
          4.5,
          4.5,
          4.5
         ]
        }
       ],
       "layout": {
        "height": 625,
        "hovermode": "closest",
        "margin": {
         "t": 80
        },
        "showlegend": false,
        "template": {
         "data": {
          "bar": [
           {
            "error_x": {
             "color": "#2a3f5f"
            },
            "error_y": {
             "color": "#2a3f5f"
            },
            "marker": {
             "line": {
              "color": "#E5ECF6",
              "width": 0.5
             },
             "pattern": {
              "fillmode": "overlay",
              "size": 10,
              "solidity": 0.2
             }
            },
            "type": "bar"
           }
          ],
          "barpolar": [
           {
            "marker": {
             "line": {
              "color": "#E5ECF6",
              "width": 0.5
             },
             "pattern": {
              "fillmode": "overlay",
              "size": 10,
              "solidity": 0.2
             }
            },
            "type": "barpolar"
           }
          ],
          "carpet": [
           {
            "aaxis": {
             "endlinecolor": "#2a3f5f",
             "gridcolor": "white",
             "linecolor": "white",
             "minorgridcolor": "white",
             "startlinecolor": "#2a3f5f"
            },
            "baxis": {
             "endlinecolor": "#2a3f5f",
             "gridcolor": "white",
             "linecolor": "white",
             "minorgridcolor": "white",
             "startlinecolor": "#2a3f5f"
            },
            "type": "carpet"
           }
          ],
          "choropleth": [
           {
            "colorbar": {
             "outlinewidth": 0,
             "ticks": ""
            },
            "type": "choropleth"
           }
          ],
          "contour": [
           {
            "colorbar": {
             "outlinewidth": 0,
             "ticks": ""
            },
            "colorscale": [
             [
              0,
              "#0d0887"
             ],
             [
              0.1111111111111111,
              "#46039f"
             ],
             [
              0.2222222222222222,
              "#7201a8"
             ],
             [
              0.3333333333333333,
              "#9c179e"
             ],
             [
              0.4444444444444444,
              "#bd3786"
             ],
             [
              0.5555555555555556,
              "#d8576b"
             ],
             [
              0.6666666666666666,
              "#ed7953"
             ],
             [
              0.7777777777777778,
              "#fb9f3a"
             ],
             [
              0.8888888888888888,
              "#fdca26"
             ],
             [
              1,
              "#f0f921"
             ]
            ],
            "type": "contour"
           }
          ],
          "contourcarpet": [
           {
            "colorbar": {
             "outlinewidth": 0,
             "ticks": ""
            },
            "type": "contourcarpet"
           }
          ],
          "heatmap": [
           {
            "colorbar": {
             "outlinewidth": 0,
             "ticks": ""
            },
            "colorscale": [
             [
              0,
              "#0d0887"
             ],
             [
              0.1111111111111111,
              "#46039f"
             ],
             [
              0.2222222222222222,
              "#7201a8"
             ],
             [
              0.3333333333333333,
              "#9c179e"
             ],
             [
              0.4444444444444444,
              "#bd3786"
             ],
             [
              0.5555555555555556,
              "#d8576b"
             ],
             [
              0.6666666666666666,
              "#ed7953"
             ],
             [
              0.7777777777777778,
              "#fb9f3a"
             ],
             [
              0.8888888888888888,
              "#fdca26"
             ],
             [
              1,
              "#f0f921"
             ]
            ],
            "type": "heatmap"
           }
          ],
          "heatmapgl": [
           {
            "colorbar": {
             "outlinewidth": 0,
             "ticks": ""
            },
            "colorscale": [
             [
              0,
              "#0d0887"
             ],
             [
              0.1111111111111111,
              "#46039f"
             ],
             [
              0.2222222222222222,
              "#7201a8"
             ],
             [
              0.3333333333333333,
              "#9c179e"
             ],
             [
              0.4444444444444444,
              "#bd3786"
             ],
             [
              0.5555555555555556,
              "#d8576b"
             ],
             [
              0.6666666666666666,
              "#ed7953"
             ],
             [
              0.7777777777777778,
              "#fb9f3a"
             ],
             [
              0.8888888888888888,
              "#fdca26"
             ],
             [
              1,
              "#f0f921"
             ]
            ],
            "type": "heatmapgl"
           }
          ],
          "histogram": [
           {
            "marker": {
             "pattern": {
              "fillmode": "overlay",
              "size": 10,
              "solidity": 0.2
             }
            },
            "type": "histogram"
           }
          ],
          "histogram2d": [
           {
            "colorbar": {
             "outlinewidth": 0,
             "ticks": ""
            },
            "colorscale": [
             [
              0,
              "#0d0887"
             ],
             [
              0.1111111111111111,
              "#46039f"
             ],
             [
              0.2222222222222222,
              "#7201a8"
             ],
             [
              0.3333333333333333,
              "#9c179e"
             ],
             [
              0.4444444444444444,
              "#bd3786"
             ],
             [
              0.5555555555555556,
              "#d8576b"
             ],
             [
              0.6666666666666666,
              "#ed7953"
             ],
             [
              0.7777777777777778,
              "#fb9f3a"
             ],
             [
              0.8888888888888888,
              "#fdca26"
             ],
             [
              1,
              "#f0f921"
             ]
            ],
            "type": "histogram2d"
           }
          ],
          "histogram2dcontour": [
           {
            "colorbar": {
             "outlinewidth": 0,
             "ticks": ""
            },
            "colorscale": [
             [
              0,
              "#0d0887"
             ],
             [
              0.1111111111111111,
              "#46039f"
             ],
             [
              0.2222222222222222,
              "#7201a8"
             ],
             [
              0.3333333333333333,
              "#9c179e"
             ],
             [
              0.4444444444444444,
              "#bd3786"
             ],
             [
              0.5555555555555556,
              "#d8576b"
             ],
             [
              0.6666666666666666,
              "#ed7953"
             ],
             [
              0.7777777777777778,
              "#fb9f3a"
             ],
             [
              0.8888888888888888,
              "#fdca26"
             ],
             [
              1,
              "#f0f921"
             ]
            ],
            "type": "histogram2dcontour"
           }
          ],
          "mesh3d": [
           {
            "colorbar": {
             "outlinewidth": 0,
             "ticks": ""
            },
            "type": "mesh3d"
           }
          ],
          "parcoords": [
           {
            "line": {
             "colorbar": {
              "outlinewidth": 0,
              "ticks": ""
             }
            },
            "type": "parcoords"
           }
          ],
          "pie": [
           {
            "automargin": true,
            "type": "pie"
           }
          ],
          "scatter": [
           {
            "fillpattern": {
             "fillmode": "overlay",
             "size": 10,
             "solidity": 0.2
            },
            "type": "scatter"
           }
          ],
          "scatter3d": [
           {
            "line": {
             "colorbar": {
              "outlinewidth": 0,
              "ticks": ""
             }
            },
            "marker": {
             "colorbar": {
              "outlinewidth": 0,
              "ticks": ""
             }
            },
            "type": "scatter3d"
           }
          ],
          "scattercarpet": [
           {
            "marker": {
             "colorbar": {
              "outlinewidth": 0,
              "ticks": ""
             }
            },
            "type": "scattercarpet"
           }
          ],
          "scattergeo": [
           {
            "marker": {
             "colorbar": {
              "outlinewidth": 0,
              "ticks": ""
             }
            },
            "type": "scattergeo"
           }
          ],
          "scattergl": [
           {
            "marker": {
             "colorbar": {
              "outlinewidth": 0,
              "ticks": ""
             }
            },
            "type": "scattergl"
           }
          ],
          "scattermapbox": [
           {
            "marker": {
             "colorbar": {
              "outlinewidth": 0,
              "ticks": ""
             }
            },
            "type": "scattermapbox"
           }
          ],
          "scatterpolar": [
           {
            "marker": {
             "colorbar": {
              "outlinewidth": 0,
              "ticks": ""
             }
            },
            "type": "scatterpolar"
           }
          ],
          "scatterpolargl": [
           {
            "marker": {
             "colorbar": {
              "outlinewidth": 0,
              "ticks": ""
             }
            },
            "type": "scatterpolargl"
           }
          ],
          "scatterternary": [
           {
            "marker": {
             "colorbar": {
              "outlinewidth": 0,
              "ticks": ""
             }
            },
            "type": "scatterternary"
           }
          ],
          "surface": [
           {
            "colorbar": {
             "outlinewidth": 0,
             "ticks": ""
            },
            "colorscale": [
             [
              0,
              "#0d0887"
             ],
             [
              0.1111111111111111,
              "#46039f"
             ],
             [
              0.2222222222222222,
              "#7201a8"
             ],
             [
              0.3333333333333333,
              "#9c179e"
             ],
             [
              0.4444444444444444,
              "#bd3786"
             ],
             [
              0.5555555555555556,
              "#d8576b"
             ],
             [
              0.6666666666666666,
              "#ed7953"
             ],
             [
              0.7777777777777778,
              "#fb9f3a"
             ],
             [
              0.8888888888888888,
              "#fdca26"
             ],
             [
              1,
              "#f0f921"
             ]
            ],
            "type": "surface"
           }
          ],
          "table": [
           {
            "cells": {
             "fill": {
              "color": "#EBF0F8"
             },
             "line": {
              "color": "white"
             }
            },
            "header": {
             "fill": {
              "color": "#C8D4E3"
             },
             "line": {
              "color": "white"
             }
            },
            "type": "table"
           }
          ]
         },
         "layout": {
          "annotationdefaults": {
           "arrowcolor": "#2a3f5f",
           "arrowhead": 0,
           "arrowwidth": 1
          },
          "autotypenumbers": "strict",
          "coloraxis": {
           "colorbar": {
            "outlinewidth": 0,
            "ticks": ""
           }
          },
          "colorscale": {
           "diverging": [
            [
             0,
             "#8e0152"
            ],
            [
             0.1,
             "#c51b7d"
            ],
            [
             0.2,
             "#de77ae"
            ],
            [
             0.3,
             "#f1b6da"
            ],
            [
             0.4,
             "#fde0ef"
            ],
            [
             0.5,
             "#f7f7f7"
            ],
            [
             0.6,
             "#e6f5d0"
            ],
            [
             0.7,
             "#b8e186"
            ],
            [
             0.8,
             "#7fbc41"
            ],
            [
             0.9,
             "#4d9221"
            ],
            [
             1,
             "#276419"
            ]
           ],
           "sequential": [
            [
             0,
             "#0d0887"
            ],
            [
             0.1111111111111111,
             "#46039f"
            ],
            [
             0.2222222222222222,
             "#7201a8"
            ],
            [
             0.3333333333333333,
             "#9c179e"
            ],
            [
             0.4444444444444444,
             "#bd3786"
            ],
            [
             0.5555555555555556,
             "#d8576b"
            ],
            [
             0.6666666666666666,
             "#ed7953"
            ],
            [
             0.7777777777777778,
             "#fb9f3a"
            ],
            [
             0.8888888888888888,
             "#fdca26"
            ],
            [
             1,
             "#f0f921"
            ]
           ],
           "sequentialminus": [
            [
             0,
             "#0d0887"
            ],
            [
             0.1111111111111111,
             "#46039f"
            ],
            [
             0.2222222222222222,
             "#7201a8"
            ],
            [
             0.3333333333333333,
             "#9c179e"
            ],
            [
             0.4444444444444444,
             "#bd3786"
            ],
            [
             0.5555555555555556,
             "#d8576b"
            ],
            [
             0.6666666666666666,
             "#ed7953"
            ],
            [
             0.7777777777777778,
             "#fb9f3a"
            ],
            [
             0.8888888888888888,
             "#fdca26"
            ],
            [
             1,
             "#f0f921"
            ]
           ]
          },
          "colorway": [
           "#636efa",
           "#EF553B",
           "#00cc96",
           "#ab63fa",
           "#FFA15A",
           "#19d3f3",
           "#FF6692",
           "#B6E880",
           "#FF97FF",
           "#FECB52"
          ],
          "font": {
           "color": "#2a3f5f"
          },
          "geo": {
           "bgcolor": "white",
           "lakecolor": "white",
           "landcolor": "#E5ECF6",
           "showlakes": true,
           "showland": true,
           "subunitcolor": "white"
          },
          "hoverlabel": {
           "align": "left"
          },
          "hovermode": "closest",
          "mapbox": {
           "style": "light"
          },
          "paper_bgcolor": "white",
          "plot_bgcolor": "#E5ECF6",
          "polar": {
           "angularaxis": {
            "gridcolor": "white",
            "linecolor": "white",
            "ticks": ""
           },
           "bgcolor": "#E5ECF6",
           "radialaxis": {
            "gridcolor": "white",
            "linecolor": "white",
            "ticks": ""
           }
          },
          "scene": {
           "xaxis": {
            "backgroundcolor": "#E5ECF6",
            "gridcolor": "white",
            "gridwidth": 2,
            "linecolor": "white",
            "showbackground": true,
            "ticks": "",
            "zerolinecolor": "white"
           },
           "yaxis": {
            "backgroundcolor": "#E5ECF6",
            "gridcolor": "white",
            "gridwidth": 2,
            "linecolor": "white",
            "showbackground": true,
            "ticks": "",
            "zerolinecolor": "white"
           },
           "zaxis": {
            "backgroundcolor": "#E5ECF6",
            "gridcolor": "white",
            "gridwidth": 2,
            "linecolor": "white",
            "showbackground": true,
            "ticks": "",
            "zerolinecolor": "white"
           }
          },
          "shapedefaults": {
           "line": {
            "color": "#2a3f5f"
           }
          },
          "ternary": {
           "aaxis": {
            "gridcolor": "white",
            "linecolor": "white",
            "ticks": ""
           },
           "baxis": {
            "gridcolor": "white",
            "linecolor": "white",
            "ticks": ""
           },
           "bgcolor": "#E5ECF6",
           "caxis": {
            "gridcolor": "white",
            "linecolor": "white",
            "ticks": ""
           }
          },
          "title": {
           "x": 0.05
          },
          "xaxis": {
           "automargin": true,
           "gridcolor": "white",
           "linecolor": "white",
           "ticks": "",
           "title": {
            "standoff": 15
           },
           "zerolinecolor": "white",
           "zerolinewidth": 2
          },
          "yaxis": {
           "automargin": true,
           "gridcolor": "white",
           "linecolor": "white",
           "ticks": "",
           "title": {
            "standoff": 15
           },
           "zerolinecolor": "white",
           "zerolinewidth": 2
          }
         }
        },
        "title": {
         "text": "Community structure of the electrodes"
        },
        "width": 650
       }
      }
     },
     "metadata": {},
     "output_type": "display_data"
    }
   ],
   "source": [
    "# community color\n",
    "if display_degree:\n",
    "    node_size= basic_size + multiplier * (1 + node_size_normalized)\n",
    "if not display_degree:\n",
    "    node_size= basic_size + multiplier * (0 * (1 + node_size_normalized) + 1)\n",
    "\n",
    "# node color\n",
    "if display_community_color:\n",
    "    node_dict = dict(\n",
    "                            symbol='circle',\n",
    "                                    size= node_size,\n",
    "                                    cmin= 1,\n",
    "                                    cmax = community_max,\n",
    "                                    color=Feature_color_sub, #color the nodes according to their community\n",
    "                                    colorscale=colorscale_node, #either green or mageneta\n",
    "                                    line=dict(color='black', width=0.5),\n",
    "                                    colorbar=dict(thickness=20, title= \"community\", xanchor = \"right\")\n",
    "                                    )\n",
    "if not display_community_color:\n",
    "    node_dict = dict(\n",
    "        symbol='circle',\n",
    "        size= node_size,\n",
    "        color = \"yellow\",\n",
    "        line=dict(color='black', width=0.5),\n",
    "                                    )\n",
    "#create a trace for the nodes\n",
    "fig.add_trace( go.Scatter3d(\n",
    "    name = \"Community\",\n",
    "    x=x_nodes,\n",
    "    y=y_nodes,\n",
    "    z=z_nodes,\n",
    "    mode='markers',\n",
    "    marker = node_dict,\n",
    "    text=[f\"Channel {channelNum} has degree {degree_dict[channelNum]} and belongs to community {partition[channelNum]+1}\" for channelNum in partition],\n",
    "    hoverinfo='text',\n",
    "    showlegend = True\n",
    "    ))\n"
   ]
  },
  {
   "attachments": {},
   "cell_type": "markdown",
   "metadata": {},
   "source": [
    "#### 7.4. edges"
   ]
  },
  {
   "cell_type": "code",
   "execution_count": 124,
   "metadata": {},
   "outputs": [],
   "source": [
    "#we  need to create lists that contain the starting and ending coordinates of each edge.\n",
    "edge_list = G.edges()\n",
    "\n",
    "x_edges=[]\n",
    "y_edges=[]\n",
    "z_edges=[]\n",
    "weights = []\n",
    "#need to fill these with all of the coordiates\n",
    "\n",
    "for u,v in edge_list:\n",
    "    #format: [beginning,ending,None]\n",
    "    sync_score_now = G[u][v]['weight']\n",
    "    if (sync_score_now >= lim_edge_low) and (sync_score_now <= lim_edge_high) and (int(d[u]) >= int(lim_degree_low)) and (int(d[u]) <= int(lim_degree_high)) and (int(d[v]) >= int(lim_degree_low)) and (int(d[v]) <= int(lim_degree_high)):\n",
    "        weights.append(round(sync_score_now,3))\n",
    "        x_coords = [\n",
    "            pos[ u ][0],\n",
    "            pos[ v ][0],\n",
    "            None\n",
    "            ]\n",
    "        x_edges += x_coords\n",
    "\n",
    "        y_coords = [pos[u][1],pos[v][1],None]\n",
    "        y_edges += y_coords\n",
    "\n",
    "        z_coords = [pos[u][2],pos[v][2],None]\n",
    "        z_edges += z_coords\n",
    "\n",
    "\n",
    "\n",
    "#####################################\n",
    "#####################################\n",
    "\n",
    "\n",
    "\n",
    "#also need to create the layout for our plot\n",
    "\n",
    "\n",
    "\n",
    "\n",
    "\n",
    "\n",
    "\n",
    "axis = dict(showbackground=False,\n",
    "            showline=False,\n",
    "            zeroline=False,\n",
    "            showgrid=False,\n",
    "            showticklabels=False,\n",
    "            title='')\n",
    "\n",
    "\n",
    "\n",
    "\n",
    "#edge\n",
    "n_step = int( 1000* lim_color_edge_high - 1000* lim_color_edge_low + 1)\n",
    "weights_transformed = [int(1000 * (weight - lim_color_edge_low)) for weight in weights]\n",
    "color_list = itp.interpolate(edge_startcolor, edge_endcolor, n_step)\n",
    "\n",
    "edge_text = f\"sync score: {round(weights[0],3)}\"\n",
    "if display_sync_score: \n",
    "    color_idx_now = weights_transformed[0]\n",
    "    color_now = color_list[color_idx_now]\n",
    "    fig.add_trace(go.Scatter3d(\n",
    "            name = f\"Edges_{0}\",\n",
    "            x = x_edges,\n",
    "            y = y_edges,\n",
    "            z = z_edges[0 : 2],\n",
    "            mode = 'lines',\n",
    "            line = dict(\n",
    "                            cmin = lim_color_edge_low,\n",
    "                            cmax = lim_color_edge_high,\n",
    "                            color= color_now,\n",
    "                            colorscale = [edge_startcolor, edge_endcolor],\n",
    "                            width=4,\n",
    "                            colorbar=dict(thickness=20, title= \"edges\", xanchor = \"left\")\n",
    "             ) ,\n",
    "            hoverinfo='text',\n",
    "            text = edge_text\n",
    "        ) #go\n",
    "        ) # list\n",
    "if not display_sync_score: \n",
    "    fig.add_trace(go.Scatter3d(\n",
    "            name = f\"Edges_{0}\",\n",
    "            x = x_edges[0 : 2],\n",
    "            y = y_edges[0 : 2],\n",
    "            z = z_edges[0 : 2],\n",
    "            mode = 'lines',\n",
    "            line = dict(width=4),\n",
    "            hoverinfo='text',\n",
    "            text = edge_text\n",
    "        ) #go\n",
    "        ) # list\n",
    "\n",
    "for i in range(1,len(weights)):\n",
    "    edge_text = f\"sync score: {round(weights[i],4)}\"\n",
    "    color_idx_now = weights_transformed[i]\n",
    "    color_now = color_list[color_idx_now]\n",
    "    if display_sync_score: \n",
    "        fig.add_trace(go.Scatter3d(\n",
    "            name = f\"Edges_{i}\",\n",
    "            x = x_edges[3*i : 3*i + 2],\n",
    "            y = y_edges[3*i : 3*i + 2],\n",
    "            z = z_edges[3*i : 3*i + 2],\n",
    "            mode = 'lines',\n",
    "            line = dict(\n",
    "                            cmin = lim_color_edge_low,\n",
    "                            cmax = lim_color_edge_high,\n",
    "                            color= color_now,\n",
    "                            colorscale = [edge_startcolor, edge_endcolor],\n",
    "                            width=4\n",
    "             ) ,\n",
    "            hoverinfo='text',\n",
    "            text = edge_text\n",
    "        ) #go\n",
    "        ) # list\n",
    "    if not display_sync_score: \n",
    "        fig.add_trace(go.Scatter3d(\n",
    "            name = f\"Edges_{i}\",\n",
    "            x = x_edges[3*i : 3*i + 2],\n",
    "            y = y_edges[3*i : 3*i + 2],\n",
    "            z = z_edges[3*i : 3*i + 2],\n",
    "            mode = 'lines',\n",
    "            line = dict(width=4),\n",
    "            hoverinfo='text',\n",
    "            text = edge_text\n",
    "        ) #go\n",
    "        ) # list\n",
    "\n",
    "fig.write_html(pwd + \"/networkfig.html\")\n",
    "\n",
    "\n",
    "\n",
    "name = 'eye = (x:0., y:0., z:2.5)'\n",
    "camera = dict(\n",
    "    eye=dict(x=0., y=0., z=2.5)\n",
    ")\n",
    "\n",
    "fig.update_layout(scene_camera=camera, title=name)\n",
    "fig.write_image(\"networkfig.svg\")"
   ]
  }
 ],
 "metadata": {
  "kernelspec": {
   "display_name": "Python 3.9.12 64-bit",
   "language": "python",
   "name": "python3"
  },
  "language_info": {
   "codemirror_mode": {
    "name": "ipython",
    "version": 3
   },
   "file_extension": ".py",
   "mimetype": "text/x-python",
   "name": "python",
   "nbconvert_exporter": "python",
   "pygments_lexer": "ipython3",
   "version": "3.9.12"
  },
  "orig_nbformat": 4,
  "vscode": {
   "interpreter": {
    "hash": "aee8b7b246df8f9039afb4144a1f6fd8d2ca17a180786b69acc140d282b71a49"
   }
  }
 },
 "nbformat": 4,
 "nbformat_minor": 2
}
